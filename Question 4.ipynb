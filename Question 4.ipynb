{
 "cells": [
  {
   "cell_type": "markdown",
   "id": "ccaf316e",
   "metadata": {},
   "source": [
    "# Assignment 1: Question 4"
   ]
  },
  {
   "cell_type": "markdown",
   "id": "16b3079d",
   "metadata": {},
   "source": [
    "Consider the _911.csv_ dataset containing information about emergency calls received on the 911 emergency line in America.\n",
    "\n",
    "The data contains the following variables:\n",
    "\n",
    "| variable      | Description                                        |\n",
    "|------------|----------------------------------------------------|\n",
    "| lat        | Latitude                                           |\n",
    "| lng        | Longitude                                          |\n",
    "| desc       | Description of the Emergency Call                 |\n",
    "| zip        | Zipcode                                            |\n",
    "| title      | Title code                                              |\n",
    "| timeStamp  | YYYY-MM-DD HH:MM:SS                                |\n",
    "| twp        | Township                                           |\n",
    "| addr       | Address                                            |\n",
    "| e          | Dummy variable (always 1)                         |"
   ]
  },
  {
   "cell_type": "code",
   "execution_count": 2,
   "id": "8af715b6",
   "metadata": {},
   "outputs": [],
   "source": [
    "import pandas as pd"
   ]
  },
  {
   "cell_type": "code",
   "execution_count": 3,
   "id": "f8490eba",
   "metadata": {},
   "outputs": [],
   "source": [
    "# Specify the path to the dataset\n",
    "file_path = \"C:/Users/user/Documents/STK 353/Assignments/911.csv\"\n",
    "# Read the CSV file into a Pandas DataFrame\n",
    "df = pd.read_csv(file_path)"
   ]
  },
  {
   "cell_type": "markdown",
   "id": "30954824",
   "metadata": {},
   "source": [
    "1. Retrieve the first 7 rows of the dataset."
   ]
  },
  {
   "cell_type": "code",
   "execution_count": 4,
   "id": "59841916",
   "metadata": {},
   "outputs": [
    {
     "data": {
      "text/html": [
       "<div>\n",
       "<style scoped>\n",
       "    .dataframe tbody tr th:only-of-type {\n",
       "        vertical-align: middle;\n",
       "    }\n",
       "\n",
       "    .dataframe tbody tr th {\n",
       "        vertical-align: top;\n",
       "    }\n",
       "\n",
       "    .dataframe thead th {\n",
       "        text-align: right;\n",
       "    }\n",
       "</style>\n",
       "<table border=\"1\" class=\"dataframe\">\n",
       "  <thead>\n",
       "    <tr style=\"text-align: right;\">\n",
       "      <th></th>\n",
       "      <th>lat</th>\n",
       "      <th>lng</th>\n",
       "      <th>desc</th>\n",
       "      <th>zip</th>\n",
       "      <th>title</th>\n",
       "      <th>timeStamp</th>\n",
       "      <th>twp</th>\n",
       "      <th>addr</th>\n",
       "      <th>e</th>\n",
       "    </tr>\n",
       "  </thead>\n",
       "  <tbody>\n",
       "    <tr>\n",
       "      <th>0</th>\n",
       "      <td>40.297876</td>\n",
       "      <td>-75.581294</td>\n",
       "      <td>REINDEER CT &amp; DEAD END;  NEW HANOVER; Station ...</td>\n",
       "      <td>19525.0</td>\n",
       "      <td>EMS: BACK PAINS/INJURY</td>\n",
       "      <td>2015-12-10 17:40:00</td>\n",
       "      <td>NEW HANOVER</td>\n",
       "      <td>REINDEER CT &amp; DEAD END</td>\n",
       "      <td>1</td>\n",
       "    </tr>\n",
       "    <tr>\n",
       "      <th>1</th>\n",
       "      <td>40.258061</td>\n",
       "      <td>-75.264680</td>\n",
       "      <td>BRIAR PATH &amp; WHITEMARSH LN;  HATFIELD TOWNSHIP...</td>\n",
       "      <td>19446.0</td>\n",
       "      <td>EMS: DIABETIC EMERGENCY</td>\n",
       "      <td>2015-12-10 17:40:00</td>\n",
       "      <td>HATFIELD TOWNSHIP</td>\n",
       "      <td>BRIAR PATH &amp; WHITEMARSH LN</td>\n",
       "      <td>1</td>\n",
       "    </tr>\n",
       "    <tr>\n",
       "      <th>2</th>\n",
       "      <td>40.121182</td>\n",
       "      <td>-75.351975</td>\n",
       "      <td>HAWS AVE; NORRISTOWN; 2015-12-10 @ 14:39:21-St...</td>\n",
       "      <td>19401.0</td>\n",
       "      <td>Fire: GAS-ODOR/LEAK</td>\n",
       "      <td>2015-12-10 17:40:00</td>\n",
       "      <td>NORRISTOWN</td>\n",
       "      <td>HAWS AVE</td>\n",
       "      <td>1</td>\n",
       "    </tr>\n",
       "    <tr>\n",
       "      <th>3</th>\n",
       "      <td>40.116153</td>\n",
       "      <td>-75.343513</td>\n",
       "      <td>AIRY ST &amp; SWEDE ST;  NORRISTOWN; Station 308A;...</td>\n",
       "      <td>19401.0</td>\n",
       "      <td>EMS: CARDIAC EMERGENCY</td>\n",
       "      <td>2015-12-10 17:40:01</td>\n",
       "      <td>NORRISTOWN</td>\n",
       "      <td>AIRY ST &amp; SWEDE ST</td>\n",
       "      <td>1</td>\n",
       "    </tr>\n",
       "    <tr>\n",
       "      <th>4</th>\n",
       "      <td>40.251492</td>\n",
       "      <td>-75.603350</td>\n",
       "      <td>CHERRYWOOD CT &amp; DEAD END;  LOWER POTTSGROVE; S...</td>\n",
       "      <td>NaN</td>\n",
       "      <td>EMS: DIZZINESS</td>\n",
       "      <td>2015-12-10 17:40:01</td>\n",
       "      <td>LOWER POTTSGROVE</td>\n",
       "      <td>CHERRYWOOD CT &amp; DEAD END</td>\n",
       "      <td>1</td>\n",
       "    </tr>\n",
       "    <tr>\n",
       "      <th>5</th>\n",
       "      <td>40.253473</td>\n",
       "      <td>-75.283245</td>\n",
       "      <td>CANNON AVE &amp; W 9TH ST;  LANSDALE; Station 345;...</td>\n",
       "      <td>19446.0</td>\n",
       "      <td>EMS: HEAD INJURY</td>\n",
       "      <td>2015-12-10 17:40:01</td>\n",
       "      <td>LANSDALE</td>\n",
       "      <td>CANNON AVE &amp; W 9TH ST</td>\n",
       "      <td>1</td>\n",
       "    </tr>\n",
       "    <tr>\n",
       "      <th>6</th>\n",
       "      <td>40.182111</td>\n",
       "      <td>-75.127795</td>\n",
       "      <td>LAUREL AVE &amp; OAKDALE AVE;  HORSHAM; Station 35...</td>\n",
       "      <td>19044.0</td>\n",
       "      <td>EMS: NAUSEA/VOMITING</td>\n",
       "      <td>2015-12-10 17:40:01</td>\n",
       "      <td>HORSHAM</td>\n",
       "      <td>LAUREL AVE &amp; OAKDALE AVE</td>\n",
       "      <td>1</td>\n",
       "    </tr>\n",
       "  </tbody>\n",
       "</table>\n",
       "</div>"
      ],
      "text/plain": [
       "         lat        lng                                               desc  \\\n",
       "0  40.297876 -75.581294  REINDEER CT & DEAD END;  NEW HANOVER; Station ...   \n",
       "1  40.258061 -75.264680  BRIAR PATH & WHITEMARSH LN;  HATFIELD TOWNSHIP...   \n",
       "2  40.121182 -75.351975  HAWS AVE; NORRISTOWN; 2015-12-10 @ 14:39:21-St...   \n",
       "3  40.116153 -75.343513  AIRY ST & SWEDE ST;  NORRISTOWN; Station 308A;...   \n",
       "4  40.251492 -75.603350  CHERRYWOOD CT & DEAD END;  LOWER POTTSGROVE; S...   \n",
       "5  40.253473 -75.283245  CANNON AVE & W 9TH ST;  LANSDALE; Station 345;...   \n",
       "6  40.182111 -75.127795  LAUREL AVE & OAKDALE AVE;  HORSHAM; Station 35...   \n",
       "\n",
       "       zip                    title            timeStamp                twp  \\\n",
       "0  19525.0   EMS: BACK PAINS/INJURY  2015-12-10 17:40:00        NEW HANOVER   \n",
       "1  19446.0  EMS: DIABETIC EMERGENCY  2015-12-10 17:40:00  HATFIELD TOWNSHIP   \n",
       "2  19401.0      Fire: GAS-ODOR/LEAK  2015-12-10 17:40:00         NORRISTOWN   \n",
       "3  19401.0   EMS: CARDIAC EMERGENCY  2015-12-10 17:40:01         NORRISTOWN   \n",
       "4      NaN           EMS: DIZZINESS  2015-12-10 17:40:01   LOWER POTTSGROVE   \n",
       "5  19446.0         EMS: HEAD INJURY  2015-12-10 17:40:01           LANSDALE   \n",
       "6  19044.0     EMS: NAUSEA/VOMITING  2015-12-10 17:40:01            HORSHAM   \n",
       "\n",
       "                         addr  e  \n",
       "0      REINDEER CT & DEAD END  1  \n",
       "1  BRIAR PATH & WHITEMARSH LN  1  \n",
       "2                    HAWS AVE  1  \n",
       "3          AIRY ST & SWEDE ST  1  \n",
       "4    CHERRYWOOD CT & DEAD END  1  \n",
       "5       CANNON AVE & W 9TH ST  1  \n",
       "6    LAUREL AVE & OAKDALE AVE  1  "
      ]
     },
     "execution_count": 4,
     "metadata": {},
     "output_type": "execute_result"
    }
   ],
   "source": [
    "# Display the first 7 rows of the DataFrame\n",
    "df.head(7)"
   ]
  },
  {
   "cell_type": "markdown",
   "id": "0bb7b127",
   "metadata": {},
   "source": [
    "2. How many rows and columns does the dataset contain?"
   ]
  },
  {
   "cell_type": "code",
   "execution_count": 5,
   "id": "a591a943",
   "metadata": {},
   "outputs": [
    {
     "name": "stdout",
     "output_type": "stream",
     "text": [
      "Number of rows: 99492\n",
      "Number of columns: 9\n"
     ]
    }
   ],
   "source": [
    "# Get the number of rows and columns in the dataset\n",
    "num_rows, num_columns = df.shape\n",
    "\n",
    "print(\"Number of rows:\", num_rows)\n",
    "print(\"Number of columns:\", num_columns)"
   ]
  },
  {
   "cell_type": "markdown",
   "id": "6e24dd7b",
   "metadata": {},
   "source": [
    "3. How many columns contain missing data?"
   ]
  },
  {
   "cell_type": "code",
   "execution_count": 6,
   "id": "27ba1ab3",
   "metadata": {},
   "outputs": [
    {
     "name": "stdout",
     "output_type": "stream",
     "text": [
      "Number of columns with missing data: 3\n"
     ]
    }
   ],
   "source": [
    "# Count missing values (NaN) in each column\n",
    "missing_data_count = df.isna().sum()\n",
    "\n",
    "# Find the number of columns with missing data\n",
    "columns_with_missing_data = missing_data_count[missing_data_count > 0]\n",
    "\n",
    "# Get the count of columns with missing data\n",
    "num_columns_with_missing_data = len(columns_with_missing_data)\n",
    "\n",
    "print(\"Number of columns with missing data:\", num_columns_with_missing_data)\n"
   ]
  },
  {
   "cell_type": "markdown",
   "id": "68233b5e",
   "metadata": {},
   "source": [
    "4. Which 5 zipcodes have the most 911 calls?"
   ]
  },
  {
   "cell_type": "code",
   "execution_count": 7,
   "id": "7c965f8e",
   "metadata": {
    "scrolled": true
   },
   "outputs": [
    {
     "name": "stdout",
     "output_type": "stream",
     "text": [
      "Top 5 zip codes with the most 911 calls:\n",
      "19401.0    6979\n",
      "19464.0    6643\n",
      "19403.0    4854\n",
      "19446.0    4748\n",
      "19406.0    3174\n",
      "Name: zip, dtype: int64\n"
     ]
    }
   ],
   "source": [
    "# Count the number of 911 calls for each zip code and get the top 5\n",
    "top_zipcodes = df['zip'].value_counts().head(5)\n",
    "\n",
    "print(\"Top 5 zip codes with the most 911 calls:\")\n",
    "print(top_zipcodes)\n"
   ]
  },
  {
   "cell_type": "markdown",
   "id": "37dcaf3d",
   "metadata": {},
   "source": [
    "5. Take a look at the 'title' column. How many unique title codes are there?"
   ]
  },
  {
   "cell_type": "code",
   "execution_count": 8,
   "id": "112c76c5",
   "metadata": {},
   "outputs": [
    {
     "name": "stdout",
     "output_type": "stream",
     "text": [
      "Number of unique title codes: 110\n"
     ]
    }
   ],
   "source": [
    "# Count the number of unique title codes in the 'title' column\n",
    "num_unique_titles = df['title'].nunique()\n",
    "\n",
    "print(\"Number of unique title codes:\", num_unique_titles)\n"
   ]
  },
  {
   "cell_type": "markdown",
   "id": "b1108730",
   "metadata": {},
   "source": [
    "6. The title column gives information about the reason for the call. \n",
    "\n",
    "eg. 'EMS: BACK PAINS/INJURY' indicates that the _Reasons/Departments_ was EMS and the specific _Issue_ was BACK PAINS/INJURY.\n",
    "\n",
    "All of the entries are formatted in this manner: **Reasons/Departments: Issue**\n",
    "\n",
    "There are 3 possible _Reasons/Departments_: EMS, Fire, and Traffic and they are all indicated before the colon in the title code.\n",
    "\n",
    "The obective is to create an new column called `Reason` that contains only the _Reasons/Departments_ information. ie. EMS, Fire, or Traffic."
   ]
  },
  {
   "cell_type": "markdown",
   "id": "b933971a",
   "metadata": {},
   "source": [
    "a. Create function called `reason_extractor` that will select only the _Reasons/Departments_ from each title. \n",
    "\n",
    "Example: 'reason_extractor' must take in a string, eg. 'EMS: BACK PAINS/INJURY' and return only 'EMS'\n",
    "\n",
    "(HINT: Consider the .split() method that is available for string variables.)"
   ]
  },
  {
   "cell_type": "code",
   "execution_count": 12,
   "id": "6e128e94",
   "metadata": {},
   "outputs": [],
   "source": [
    "def reason_extractor(title):\n",
    "    # Split the title using ':' as the delimiter and take the first part\n",
    "    parts = title.split(':')\n",
    "    if len(parts) > 0:\n",
    "        return parts[0]\n",
    "    else:\n",
    "        return None  # Handle cases where the title format is unexpected"
   ]
  },
  {
   "cell_type": "markdown",
   "id": "c5ac4562",
   "metadata": {},
   "source": [
    "Test your function on 'Fire: GAS-ODOR/LEAK'. If you give it this string, does it output 'Fire'?"
   ]
  },
  {
   "cell_type": "code",
   "execution_count": 13,
   "id": "c3f4c2e9",
   "metadata": {},
   "outputs": [
    {
     "name": "stdout",
     "output_type": "stream",
     "text": [
      "Reason extracted: Fire\n"
     ]
    }
   ],
   "source": [
    "title_example = 'Fire: GAS-ODOR/LEAK'\n",
    "reason = reason_extractor(title_example)\n",
    "print(\"Reason extracted:\", reason)"
   ]
  },
  {
   "cell_type": "markdown",
   "id": "c72b1805",
   "metadata": {},
   "source": [
    "b. Now use the .apply() method with a custom lambda expression to create a new column in your dataframe that is called \"Reason\" which contains the _Reasons/Departments_ information (ie. EMS, Fire, or Traffic only)."
   ]
  },
  {
   "cell_type": "code",
   "execution_count": 14,
   "id": "c6dfce4f",
   "metadata": {},
   "outputs": [
    {
     "name": "stdout",
     "output_type": "stream",
     "text": [
      "                     title Reason\n",
      "0   EMS: BACK PAINS/INJURY    EMS\n",
      "1  EMS: DIABETIC EMERGENCY    EMS\n",
      "2      Fire: GAS-ODOR/LEAK   Fire\n",
      "3   EMS: CARDIAC EMERGENCY    EMS\n",
      "4           EMS: DIZZINESS    EMS\n"
     ]
    }
   ],
   "source": [
    "# Create a new column \"Reason\" by applying a lambda function to the \"title\" column\n",
    "df['Reason'] = df['title'].apply(lambda x: x.split(':')[0])\n",
    "\n",
    "# Display the first few rows of the DataFrame to verify the \"Reason\" column\n",
    "print(df[['title', 'Reason']].head())\n"
   ]
  },
  {
   "cell_type": "markdown",
   "id": "3e631623",
   "metadata": {},
   "source": [
    "7.  How many calls were received for each _Reasons/Departments_ based off of the new \"Reason\" column?"
   ]
  },
  {
   "cell_type": "code",
   "execution_count": 15,
   "id": "ae152d34",
   "metadata": {
    "scrolled": true
   },
   "outputs": [
    {
     "name": "stdout",
     "output_type": "stream",
     "text": [
      "Number of calls received for each Reasons/Departments:\n",
      "EMS        48877\n",
      "Traffic    35695\n",
      "Fire       14920\n",
      "Name: Reason, dtype: int64\n"
     ]
    }
   ],
   "source": [
    "# Count the number of calls for each Reasons/Departments based on the \"Reason\" column\n",
    "reason_counts = df['Reason'].value_counts()\n",
    "\n",
    "# Display the counts for each Reasons/Departments\n",
    "print(\"Number of calls received for each Reasons/Departments:\")\n",
    "print(reason_counts)\n"
   ]
  },
  {
   "cell_type": "markdown",
   "id": "99c8a68c",
   "metadata": {},
   "source": [
    "8. Use `matplotlib` to plot a histogram showing the proportion of all the calls that were assigned to each _Reasons/Departments_. Remenber to give your graph a descriptive title and show all relevant labelling to ensure that your graph is meaningful and easy to understand. Also include gridlines in your plot for increased readability. "
   ]
  },
  {
   "cell_type": "code",
   "execution_count": 18,
   "id": "f0c0e868",
   "metadata": {},
   "outputs": [],
   "source": [
    "import matplotlib.pyplot as plt"
   ]
  },
  {
   "cell_type": "code",
   "execution_count": 20,
   "id": "bb62ec3d",
   "metadata": {},
   "outputs": [
    {
     "data": {
      "image/png": "[encoded data removed]",
      "text/plain": [
       "<Figure size 800x600 with 1 Axes>"
      ]
     },
     "metadata": {},
     "output_type": "display_data"
    }
   ],
   "source": [
    "# Count the number of calls for each Reasons/Departments based on the \"Reason\" column\n",
    "reason_counts = df['Reason'].value_counts()\n",
    "\n",
    "# Calculate the proportions\n",
    "total_calls = len(df)\n",
    "proportions = reason_counts / total_calls\n",
    "\n",
    "# Create a bar plot (histogram) for the proportions\n",
    "plt.figure(figsize=(8, 6))\n",
    "proportions.plot(kind='bar', color='skyblue')\n",
    "\n",
    "# Add title and labels\n",
    "plt.title('Proportion of 911 Calls by Reasons/Departments')\n",
    "plt.xlabel('Reasons/Departments')\n",
    "plt.ylabel('Proportion')\n",
    "\n",
    "# Add gridlines for readability\n",
    "plt.grid(axis='y', linestyle='--', alpha=0.7)\n",
    "\n",
    "# Show the plot\n",
    "plt.show()\n",
    "\n"
   ]
  },
  {
   "cell_type": "markdown",
   "id": "4040ae23",
   "metadata": {},
   "source": [
    "<h3><center>End of Question 4</center></h3>"
   ]
  },
  {
   "cell_type": "markdown",
   "id": "767033a3",
   "metadata": {},
   "source": [
    "<h2><center>End of Assignment 1</center></h2>"
   ]
  }
 ],
 "metadata": {
  "kernelspec": {
   "display_name": "Python 3 (ipykernel)",
   "language": "python",
   "name": "python3"
  },
  "language_info": {
   "codemirror_mode": {
    "name": "ipython",
    "version": 3
   },
   "file_extension": ".py",
   "mimetype": "text/x-python",
   "name": "python",
   "nbconvert_exporter": "python",
   "pygments_lexer": "ipython3",
   "version": "3.11.3"
  }
 },
 "nbformat": 4,
 "nbformat_minor": 5
}
