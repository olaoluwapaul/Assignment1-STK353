{
 "cells": [
  {
   "cell_type": "markdown",
   "id": "3e385688",
   "metadata": {},
   "source": [
    "# Assignment 1: Question 2"
   ]
  },
  {
   "cell_type": "markdown",
   "id": "b86a8e70",
   "metadata": {},
   "source": [
    "Consider the _Salaries.csv_ dataset containing San Francisco city employee salary data."
   ]
  },
  {
   "cell_type": "code",
   "execution_count": 3,
   "id": "78571c99",
   "metadata": {},
   "outputs": [],
   "source": [
    "import numpy as np\n",
    "import pandas as pd"
   ]
  },
  {
   "cell_type": "code",
   "execution_count": 4,
   "id": "b69317c8",
   "metadata": {},
   "outputs": [
    {
     "name": "stdout",
     "output_type": "stream",
     "text": [
      "            Id       EmployeeName  \\\n",
      "0            1     NATHANIEL FORD   \n",
      "1            2       GARY JIMENEZ   \n",
      "2            3     ALBERT PARDINI   \n",
      "3            4  CHRISTOPHER CHONG   \n",
      "4            5    PATRICK GARDNER   \n",
      "...        ...                ...   \n",
      "148649  148650      Roy I Tillery   \n",
      "148650  148651       Not provided   \n",
      "148651  148652       Not provided   \n",
      "148652  148653       Not provided   \n",
      "148653  148654          Joe Lopez   \n",
      "\n",
      "                                              JobTitle    BasePay  \\\n",
      "0       GENERAL MANAGER-METROPOLITAN TRANSIT AUTHORITY  167411.18   \n",
      "1                      CAPTAIN III (POLICE DEPARTMENT)  155966.02   \n",
      "2                      CAPTAIN III (POLICE DEPARTMENT)  212739.13   \n",
      "3                 WIRE ROPE CABLE MAINTENANCE MECHANIC   77916.00   \n",
      "4         DEPUTY CHIEF OF DEPARTMENT,(FIRE DEPARTMENT)  134401.60   \n",
      "...                                                ...        ...   \n",
      "148649                                       Custodian       0.00   \n",
      "148650                                    Not provided        NaN   \n",
      "148651                                    Not provided        NaN   \n",
      "148652                                    Not provided        NaN   \n",
      "148653                      Counselor, Log Cabin Ranch       0.00   \n",
      "\n",
      "        OvertimePay   OtherPay  Benefits   TotalPay  TotalPayBenefits  Year  \\\n",
      "0              0.00  400184.25       NaN  567595.43         567595.43  2011   \n",
      "1         245131.88  137811.38       NaN  538909.28         538909.28  2011   \n",
      "2         106088.18   16452.60       NaN  335279.91         335279.91  2011   \n",
      "3          56120.71  198306.90       NaN  332343.61         332343.61  2011   \n",
      "4           9737.00  182234.59       NaN  326373.19         326373.19  2011   \n",
      "...             ...        ...       ...        ...               ...   ...   \n",
      "148649         0.00       0.00       0.0       0.00              0.00  2014   \n",
      "148650          NaN        NaN       NaN       0.00              0.00  2014   \n",
      "148651          NaN        NaN       NaN       0.00              0.00  2014   \n",
      "148652          NaN        NaN       NaN       0.00              0.00  2014   \n",
      "148653         0.00    -618.13       0.0    -618.13           -618.13  2014   \n",
      "\n",
      "        Notes         Agency  Status  \n",
      "0         NaN  San Francisco     NaN  \n",
      "1         NaN  San Francisco     NaN  \n",
      "2         NaN  San Francisco     NaN  \n",
      "3         NaN  San Francisco     NaN  \n",
      "4         NaN  San Francisco     NaN  \n",
      "...       ...            ...     ...  \n",
      "148649    NaN  San Francisco     NaN  \n",
      "148650    NaN  San Francisco     NaN  \n",
      "148651    NaN  San Francisco     NaN  \n",
      "148652    NaN  San Francisco     NaN  \n",
      "148653    NaN  San Francisco     NaN  \n",
      "\n",
      "[148654 rows x 13 columns]\n"
     ]
    }
   ],
   "source": [
    "# Read the CSV file into a DataFrame\n",
    "df = pd.read_csv(\"C:/Users/user/Documents/STK 353/Assignments/Salaries.csv\")\n",
    "# Print the entire DataFrame\n",
    "print(df)"
   ]
  },
  {
   "cell_type": "markdown",
   "id": "11df3184",
   "metadata": {},
   "source": [
    "1. How many rows does the _Salaries.csv_ dataset have?"
   ]
  },
  {
   "cell_type": "code",
   "execution_count": 5,
   "id": "1f508801",
   "metadata": {},
   "outputs": [
    {
     "name": "stdout",
     "output_type": "stream",
     "text": [
      "Number of rows in the dataset: 148654\n"
     ]
    }
   ],
   "source": [
    "# Check the number of rows in the DataFrame\n",
    "num_rows = df.shape[0]\n",
    "print(\"Number of rows in the dataset:\", num_rows)"
   ]
  },
  {
   "cell_type": "markdown",
   "id": "ed0f58d3",
   "metadata": {},
   "source": [
    "2. Retrieve the column names."
   ]
  },
  {
   "cell_type": "code",
   "execution_count": 6,
   "id": "b5325279",
   "metadata": {
    "scrolled": true
   },
   "outputs": [
    {
     "name": "stdout",
     "output_type": "stream",
     "text": [
      "Column names in the dataset:\n",
      "Id\n",
      "EmployeeName\n",
      "JobTitle\n",
      "BasePay\n",
      "OvertimePay\n",
      "OtherPay\n",
      "Benefits\n",
      "TotalPay\n",
      "TotalPayBenefits\n",
      "Year\n",
      "Notes\n",
      "Agency\n",
      "Status\n"
     ]
    }
   ],
   "source": [
    "# Get the column names\n",
    "column_names = df.columns\n",
    "print(\"Column names in the dataset:\")\n",
    "for column in column_names:\n",
    "    print(column)"
   ]
  },
  {
   "cell_type": "markdown",
   "id": "662d830a",
   "metadata": {},
   "source": [
    "3. Use an appropriate method to retrieve the first 10 rows of the data."
   ]
  },
  {
   "cell_type": "code",
   "execution_count": 7,
   "id": "9066f919",
   "metadata": {},
   "outputs": [
    {
     "name": "stdout",
     "output_type": "stream",
     "text": [
      "First 10 rows of the dataset:\n",
      "   Id        EmployeeName                                        JobTitle  \\\n",
      "0   1      NATHANIEL FORD  GENERAL MANAGER-METROPOLITAN TRANSIT AUTHORITY   \n",
      "1   2        GARY JIMENEZ                 CAPTAIN III (POLICE DEPARTMENT)   \n",
      "2   3      ALBERT PARDINI                 CAPTAIN III (POLICE DEPARTMENT)   \n",
      "3   4   CHRISTOPHER CHONG            WIRE ROPE CABLE MAINTENANCE MECHANIC   \n",
      "4   5     PATRICK GARDNER    DEPUTY CHIEF OF DEPARTMENT,(FIRE DEPARTMENT)   \n",
      "5   6      DAVID SULLIVAN                       ASSISTANT DEPUTY CHIEF II   \n",
      "6   7           ALSON LEE              BATTALION CHIEF, (FIRE DEPARTMENT)   \n",
      "7   8       DAVID KUSHNER                  DEPUTY DIRECTOR OF INVESTMENTS   \n",
      "8   9      MICHAEL MORRIS              BATTALION CHIEF, (FIRE DEPARTMENT)   \n",
      "9  10  JOANNE HAYES-WHITE          CHIEF OF DEPARTMENT, (FIRE DEPARTMENT)   \n",
      "\n",
      "     BasePay  OvertimePay   OtherPay  Benefits   TotalPay  TotalPayBenefits  \\\n",
      "0  167411.18         0.00  400184.25       NaN  567595.43         567595.43   \n",
      "1  155966.02    245131.88  137811.38       NaN  538909.28         538909.28   \n",
      "2  212739.13    106088.18   16452.60       NaN  335279.91         335279.91   \n",
      "3   77916.00     56120.71  198306.90       NaN  332343.61         332343.61   \n",
      "4  134401.60      9737.00  182234.59       NaN  326373.19         326373.19   \n",
      "5  118602.00      8601.00  189082.74       NaN  316285.74         316285.74   \n",
      "6   92492.01     89062.90  134426.14       NaN  315981.05         315981.05   \n",
      "7  256576.96         0.00   51322.50       NaN  307899.46         307899.46   \n",
      "8  176932.64     86362.68   40132.23       NaN  303427.55         303427.55   \n",
      "9  285262.00         0.00   17115.73       NaN  302377.73         302377.73   \n",
      "\n",
      "   Year  Notes         Agency  Status  \n",
      "0  2011    NaN  San Francisco     NaN  \n",
      "1  2011    NaN  San Francisco     NaN  \n",
      "2  2011    NaN  San Francisco     NaN  \n",
      "3  2011    NaN  San Francisco     NaN  \n",
      "4  2011    NaN  San Francisco     NaN  \n",
      "5  2011    NaN  San Francisco     NaN  \n",
      "6  2011    NaN  San Francisco     NaN  \n",
      "7  2011    NaN  San Francisco     NaN  \n",
      "8  2011    NaN  San Francisco     NaN  \n",
      "9  2011    NaN  San Francisco     NaN  \n"
     ]
    }
   ],
   "source": [
    "# Retrieve the first 10 rows of the data\n",
    "first_10_rows = df.head(10)\n",
    "print(\"First 10 rows of the dataset:\")\n",
    "print(first_10_rows)"
   ]
  },
  {
   "cell_type": "markdown",
   "id": "6de68387",
   "metadata": {},
   "source": [
    "4. What is the average BasePay?"
   ]
  },
  {
   "cell_type": "code",
   "execution_count": 8,
   "id": "255bb558",
   "metadata": {},
   "outputs": [
    {
     "name": "stdout",
     "output_type": "stream",
     "text": [
      "Average BasePay: 66325.4488404877\n"
     ]
    }
   ],
   "source": [
    "# Calculate the average BasePay\n",
    "average_basepay = df['BasePay'].mean()\n",
    "print(\"Average BasePay:\", average_basepay)"
   ]
  },
  {
   "cell_type": "markdown",
   "id": "b95cd74f",
   "metadata": {},
   "source": [
    "5. What is the highest amount of OvertimePay in the dataset?"
   ]
  },
  {
   "cell_type": "code",
   "execution_count": 9,
   "id": "a1251827",
   "metadata": {},
   "outputs": [
    {
     "name": "stdout",
     "output_type": "stream",
     "text": [
      "Highest OvertimePay: 245131.88\n"
     ]
    }
   ],
   "source": [
    "# Find the highest amount of OvertimePay\n",
    "highest_overtimepay = df['OvertimePay'].max()\n",
    "print(\"Highest OvertimePay:\", highest_overtimepay)"
   ]
  },
  {
   "cell_type": "markdown",
   "id": "b0491183",
   "metadata": {},
   "source": [
    "6. What is the job title of PATRICIA GRANDBERRY?"
   ]
  },
  {
   "cell_type": "code",
   "execution_count": 10,
   "id": "23d920b0",
   "metadata": {},
   "outputs": [
    {
     "name": "stdout",
     "output_type": "stream",
     "text": [
      "Job title of PATRICIA GRANDBERRY: PUBLIC HEALTH NURSE\n"
     ]
    }
   ],
   "source": [
    "# Filter the DataFrame to find the rows where the employee's name is PATRICIA GRANDBERRY\n",
    "filtered_df = df[df['EmployeeName'] == 'PATRICIA GRANDBERRY']\n",
    "\n",
    "# Get the job title from the filtered DataFrame\n",
    "job_title = filtered_df['JobTitle'].values[0]\n",
    "\n",
    "print(\"Job title of PATRICIA GRANDBERRY:\", job_title)"
   ]
  },
  {
   "cell_type": "markdown",
   "id": "533d98b4",
   "metadata": {},
   "source": [
    "7. What is the name of the highest paid person including benefits (TotalPayBenefits)?"
   ]
  },
  {
   "cell_type": "code",
   "execution_count": 11,
   "id": "a8d5c448",
   "metadata": {
    "scrolled": true
   },
   "outputs": [
    {
     "name": "stdout",
     "output_type": "stream",
     "text": [
      "Name of the highest-paid person (including benefits): NATHANIEL FORD\n",
      "Name of the lowest-paid person (including benefits): Joe Lopez\n"
     ]
    }
   ],
   "source": [
    "# Find the row with the highest TotalPayBenefits\n",
    "highest_paid_index = df['TotalPayBenefits'].idxmax()\n",
    "\n",
    "# Get the name of the highest-paid person\n",
    "highest_paid_person_name = df.loc[highest_paid_index, 'EmployeeName']\n",
    "\n",
    "print(\"Name of the highest-paid person (including benefits):\", highest_paid_person_name)\n",
    "\n",
    "\n",
    "# Find the row with the lowest TotalPayBenefits\n",
    "lowest_paid_index = df['TotalPayBenefits'].idxmin()\n",
    "\n",
    "# Get the name of the lowest-paid person\n",
    "lowest_paid_person_name = df.loc[lowest_paid_index, 'EmployeeName']\n",
    "\n",
    "print(\"Name of the lowest-paid person (including benefits):\", lowest_paid_person_name)"
   ]
  },
  {
   "cell_type": "markdown",
   "id": "e3ba4802",
   "metadata": {},
   "source": [
    "8. What was the average TotalPayBenefits of all employees per year?"
   ]
  },
  {
   "cell_type": "code",
   "execution_count": 11,
   "id": "e6d26501",
   "metadata": {},
   "outputs": [
    {
     "name": "stdout",
     "output_type": "stream",
     "text": [
      "Average TotalPayBenefits per year:\n",
      "Year\n",
      "2011     71744.103871\n",
      "2012    100553.229232\n",
      "2013    101440.519714\n",
      "2014    100250.918884\n",
      "Name: TotalPayBenefits, dtype: float64\n"
     ]
    }
   ],
   "source": [
    "# Group the data by the \"Year\" column and calculate the average TotalPayBenefits for each year\n",
    "average_totalpaybenefits_per_year = df.groupby('Year')['TotalPayBenefits'].mean()\n",
    "\n",
    "# Print the result\n",
    "print(\"Average TotalPayBenefits per year:\")\n",
    "print(average_totalpaybenefits_per_year)"
   ]
  },
  {
   "cell_type": "markdown",
   "id": "c9785b49",
   "metadata": {},
   "source": [
    "9. How many unique job titles are there?"
   ]
  },
  {
   "cell_type": "code",
   "execution_count": 12,
   "id": "7069396c",
   "metadata": {},
   "outputs": [
    {
     "name": "stdout",
     "output_type": "stream",
     "text": [
      "Number of unique job titles: 2159\n"
     ]
    }
   ],
   "source": [
    "# Calculate the number of unique job titles\n",
    "unique_job_titles_count = df['JobTitle'].nunique()\n",
    "print(\"Number of unique job titles:\", unique_job_titles_count)"
   ]
  },
  {
   "cell_type": "markdown",
   "id": "da51863c",
   "metadata": {},
   "source": [
    "10. What are the top 10 most common jobs? Take note of how many people have these jobs titles."
   ]
  },
  {
   "cell_type": "code",
   "execution_count": 13,
   "id": "b4fa007e",
   "metadata": {},
   "outputs": [
    {
     "name": "stdout",
     "output_type": "stream",
     "text": [
      "Top 10 most common job titles and the number of people with each title:\n",
      "Transit Operator                7036\n",
      "Special Nurse                   4389\n",
      "Registered Nurse                3736\n",
      "Public Svc Aide-Public Works    2518\n",
      "Police Officer 3                2421\n",
      "Custodian                       2418\n",
      "TRANSIT OPERATOR                2388\n",
      "Firefighter                     2359\n",
      "Recreation Leader               1971\n",
      "Patient Care Assistant          1945\n",
      "Name: JobTitle, dtype: int64\n"
     ]
    }
   ],
   "source": [
    "# Calculate the count of each job title and select the top 10 most common ones\n",
    "top_10_common_jobs = df['JobTitle'].value_counts().head(10)\n",
    "\n",
    "# Print the result\n",
    "print(\"Top 10 most common job titles and the number of people with each title:\")\n",
    "print(top_10_common_jobs)"
   ]
  },
  {
   "cell_type": "markdown",
   "id": "34a298d7",
   "metadata": {},
   "source": [
    "11. What was the average BasePay for Firefighters in each year?"
   ]
  },
  {
   "cell_type": "code",
   "execution_count": 13,
   "id": "f1d7f4f7",
   "metadata": {
    "scrolled": false
   },
   "outputs": [
    {
     "name": "stdout",
     "output_type": "stream",
     "text": [
      "Average BasePay for Firefighters in each year:\n",
      "Year\n",
      "2012    101389.955415\n",
      "2013    106700.682907\n",
      "2014     98847.538945\n",
      "Name: BasePay, dtype: float64\n",
      "Average BasePay for Porters in each year:\n",
      "Year\n",
      "2012    36827.733690\n",
      "2013    40975.338235\n",
      "2014    40863.983324\n",
      "Name: BasePay, dtype: float64\n"
     ]
    }
   ],
   "source": [
    "# Filter the data to include only rows with the job title \"Firefighter\"\n",
    "firefighter_data = df[df['JobTitle'] == 'Firefighter']\n",
    "\n",
    "# Group the filtered data by the \"Year\" column and calculate the average BasePay for each year\n",
    "average_basepay_per_year_firefighters = firefighter_data.groupby('Year')['BasePay'].mean()\n",
    "\n",
    "# Print the result\n",
    "print(\"Average BasePay for Firefighters in each year:\")\n",
    "print(average_basepay_per_year_firefighters)\n",
    "\n",
    "# Filter the data to include only rows with the job title \"Porter\"\n",
    "porter_data = df[df['JobTitle'] == 'Porter']\n",
    "\n",
    "# Group the filtered data by the \"Year\" column and calculate the average BasePay for Porters in each year\n",
    "average_basepay_per_year_porters = porter_data.groupby('Year')['BasePay'].mean()\n",
    "\n",
    "# Print the result\n",
    "print(\"Average BasePay for Porters in each year:\")\n",
    "print(average_basepay_per_year_porters)"
   ]
  },
  {
   "cell_type": "code",
   "execution_count": null,
   "id": "30987b33",
   "metadata": {
    "scrolled": true
   },
   "outputs": [],
   "source": []
  },
  {
   "cell_type": "markdown",
   "id": "11b4544e",
   "metadata": {},
   "source": [
    "<h3><center>End of Question 2</center></h3>"
   ]
  }
 ],
 "metadata": {
  "kernelspec": {
   "display_name": "Python 3 (ipykernel)",
   "language": "python",
   "name": "python3"
  },
  "language_info": {
   "codemirror_mode": {
    "name": "ipython",
    "version": 3
   },
   "file_extension": ".py",
   "mimetype": "text/x-python",
   "name": "python",
   "nbconvert_exporter": "python",
   "pygments_lexer": "ipython3",
   "version": "3.11.3"
  }
 },
 "nbformat": 4,
 "nbformat_minor": 5
}
