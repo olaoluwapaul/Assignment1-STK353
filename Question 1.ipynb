{
 "cells": [
  {
   "cell_type": "markdown",
   "id": "61f8a369",
   "metadata": {},
   "source": [
    "# Assignment 1: Question 1"
   ]
  },
  {
   "cell_type": "markdown",
   "id": "9834463f",
   "metadata": {},
   "source": [
    "Consider the _Payroll.csv_ dataset."
   ]
  },
  {
   "cell_type": "code",
   "execution_count": 4,
   "id": "111b5e9e",
   "metadata": {},
   "outputs": [],
   "source": [
    "import numpy as np\n",
    "import pandas as pd"
   ]
  },
  {
   "cell_type": "code",
   "execution_count": 5,
   "id": "381a457c",
   "metadata": {
    "scrolled": true
   },
   "outputs": [
    {
     "name": "stdout",
     "output_type": "stream",
     "text": [
      "            EmployeeName                    JobTitle  BasicSalary  \\\n",
      "0         Scott W Walton                  Manager II    126346.04   \n",
      "1           Brian W Byun                    Engineer    132399.33   \n",
      "2       Kenneth J Canedo            Police Officer 3    124723.62   \n",
      "3       Brett A Lundberg             General Laborer    117045.00   \n",
      "4         Mark W Mcclure             General Laborer    114062.00   \n",
      "...                  ...                         ...          ...   \n",
      "148862     Roy I Tillery                   Custodian         0.00   \n",
      "148863      Not provided                Not provided          NaN   \n",
      "148864      Not provided                Not provided          NaN   \n",
      "148865      Not provided                Not provided          NaN   \n",
      "148866         Joe Lopez  Counselor, Log Cabin Ranch         0.00   \n",
      "\n",
      "        OvertimePay  OtherPay   TotalPay    Year         Agency  \n",
      "0               0.0   1000.00  127346.04  2013.0  San Francisco  \n",
      "1               0.0   1913.44  134312.77  2013.0  San Francisco  \n",
      "2           10582.2   7001.51  137940.06  2013.0  San Francisco  \n",
      "3               0.0      0.00       0.00  2014.0  San Francisco  \n",
      "4               0.0      0.00       0.00  2014.0  San Francisco  \n",
      "...             ...       ...        ...     ...            ...  \n",
      "148862          0.0      0.00       0.00  2014.0  San Francisco  \n",
      "148863          NaN       NaN       0.00  2014.0  San Francisco  \n",
      "148864          NaN       NaN       0.00  2014.0  San Francisco  \n",
      "148865          NaN       NaN       0.00  2014.0  San Francisco  \n",
      "148866          0.0   -618.13    -618.13  2014.0  San Francisco  \n",
      "\n",
      "[148867 rows x 8 columns]\n"
     ]
    }
   ],
   "source": [
    "# Read the CSV file into a DataFrame\n",
    "df = pd.read_csv(\"C:/Users/user/Documents/STK 353/Assignments/Payroll.csv\")\n",
    "# Print the entire DataFrame\n",
    "print(df)"
   ]
  },
  {
   "cell_type": "code",
   "execution_count": 6,
   "id": "49422715",
   "metadata": {},
   "outputs": [
    {
     "data": {
      "text/html": [
       "<div>\n",
       "<style scoped>\n",
       "    .dataframe tbody tr th:only-of-type {\n",
       "        vertical-align: middle;\n",
       "    }\n",
       "\n",
       "    .dataframe tbody tr th {\n",
       "        vertical-align: top;\n",
       "    }\n",
       "\n",
       "    .dataframe thead th {\n",
       "        text-align: right;\n",
       "    }\n",
       "</style>\n",
       "<table border=\"1\" class=\"dataframe\">\n",
       "  <thead>\n",
       "    <tr style=\"text-align: right;\">\n",
       "      <th></th>\n",
       "      <th>EmployeeName</th>\n",
       "      <th>JobTitle</th>\n",
       "      <th>BasicSalary</th>\n",
       "      <th>OvertimePay</th>\n",
       "      <th>OtherPay</th>\n",
       "      <th>TotalPay</th>\n",
       "      <th>Year</th>\n",
       "      <th>Agency</th>\n",
       "    </tr>\n",
       "  </thead>\n",
       "  <tbody>\n",
       "    <tr>\n",
       "      <th>0</th>\n",
       "      <td>Scott W Walton</td>\n",
       "      <td>Manager II</td>\n",
       "      <td>126346.04</td>\n",
       "      <td>0.0</td>\n",
       "      <td>1000.00</td>\n",
       "      <td>127346.04</td>\n",
       "      <td>2013.0</td>\n",
       "      <td>San Francisco</td>\n",
       "    </tr>\n",
       "    <tr>\n",
       "      <th>1</th>\n",
       "      <td>Brian W Byun</td>\n",
       "      <td>Engineer</td>\n",
       "      <td>132399.33</td>\n",
       "      <td>0.0</td>\n",
       "      <td>1913.44</td>\n",
       "      <td>134312.77</td>\n",
       "      <td>2013.0</td>\n",
       "      <td>San Francisco</td>\n",
       "    </tr>\n",
       "    <tr>\n",
       "      <th>2</th>\n",
       "      <td>Kenneth J Canedo</td>\n",
       "      <td>Police Officer 3</td>\n",
       "      <td>124723.62</td>\n",
       "      <td>10582.2</td>\n",
       "      <td>7001.51</td>\n",
       "      <td>137940.06</td>\n",
       "      <td>2013.0</td>\n",
       "      <td>San Francisco</td>\n",
       "    </tr>\n",
       "    <tr>\n",
       "      <th>3</th>\n",
       "      <td>Brett A Lundberg</td>\n",
       "      <td>General Laborer</td>\n",
       "      <td>117045.00</td>\n",
       "      <td>0.0</td>\n",
       "      <td>0.00</td>\n",
       "      <td>0.00</td>\n",
       "      <td>2014.0</td>\n",
       "      <td>San Francisco</td>\n",
       "    </tr>\n",
       "    <tr>\n",
       "      <th>4</th>\n",
       "      <td>Mark W Mcclure</td>\n",
       "      <td>General Laborer</td>\n",
       "      <td>114062.00</td>\n",
       "      <td>0.0</td>\n",
       "      <td>0.00</td>\n",
       "      <td>0.00</td>\n",
       "      <td>2014.0</td>\n",
       "      <td>San Francisco</td>\n",
       "    </tr>\n",
       "    <tr>\n",
       "      <th>...</th>\n",
       "      <td>...</td>\n",
       "      <td>...</td>\n",
       "      <td>...</td>\n",
       "      <td>...</td>\n",
       "      <td>...</td>\n",
       "      <td>...</td>\n",
       "      <td>...</td>\n",
       "      <td>...</td>\n",
       "    </tr>\n",
       "    <tr>\n",
       "      <th>148862</th>\n",
       "      <td>Roy I Tillery</td>\n",
       "      <td>Custodian</td>\n",
       "      <td>0.00</td>\n",
       "      <td>0.0</td>\n",
       "      <td>0.00</td>\n",
       "      <td>0.00</td>\n",
       "      <td>2014.0</td>\n",
       "      <td>San Francisco</td>\n",
       "    </tr>\n",
       "    <tr>\n",
       "      <th>148863</th>\n",
       "      <td>Not provided</td>\n",
       "      <td>Not provided</td>\n",
       "      <td>NaN</td>\n",
       "      <td>NaN</td>\n",
       "      <td>NaN</td>\n",
       "      <td>0.00</td>\n",
       "      <td>2014.0</td>\n",
       "      <td>San Francisco</td>\n",
       "    </tr>\n",
       "    <tr>\n",
       "      <th>148864</th>\n",
       "      <td>Not provided</td>\n",
       "      <td>Not provided</td>\n",
       "      <td>NaN</td>\n",
       "      <td>NaN</td>\n",
       "      <td>NaN</td>\n",
       "      <td>0.00</td>\n",
       "      <td>2014.0</td>\n",
       "      <td>San Francisco</td>\n",
       "    </tr>\n",
       "    <tr>\n",
       "      <th>148865</th>\n",
       "      <td>Not provided</td>\n",
       "      <td>Not provided</td>\n",
       "      <td>NaN</td>\n",
       "      <td>NaN</td>\n",
       "      <td>NaN</td>\n",
       "      <td>0.00</td>\n",
       "      <td>2014.0</td>\n",
       "      <td>San Francisco</td>\n",
       "    </tr>\n",
       "    <tr>\n",
       "      <th>148866</th>\n",
       "      <td>Joe Lopez</td>\n",
       "      <td>Counselor, Log Cabin Ranch</td>\n",
       "      <td>0.00</td>\n",
       "      <td>0.0</td>\n",
       "      <td>-618.13</td>\n",
       "      <td>-618.13</td>\n",
       "      <td>2014.0</td>\n",
       "      <td>San Francisco</td>\n",
       "    </tr>\n",
       "  </tbody>\n",
       "</table>\n",
       "<p>148867 rows × 8 columns</p>\n",
       "</div>"
      ],
      "text/plain": [
       "            EmployeeName                    JobTitle  BasicSalary  \\\n",
       "0         Scott W Walton                  Manager II    126346.04   \n",
       "1           Brian W Byun                    Engineer    132399.33   \n",
       "2       Kenneth J Canedo            Police Officer 3    124723.62   \n",
       "3       Brett A Lundberg             General Laborer    117045.00   \n",
       "4         Mark W Mcclure             General Laborer    114062.00   \n",
       "...                  ...                         ...          ...   \n",
       "148862     Roy I Tillery                   Custodian         0.00   \n",
       "148863      Not provided                Not provided          NaN   \n",
       "148864      Not provided                Not provided          NaN   \n",
       "148865      Not provided                Not provided          NaN   \n",
       "148866         Joe Lopez  Counselor, Log Cabin Ranch         0.00   \n",
       "\n",
       "        OvertimePay  OtherPay   TotalPay    Year         Agency  \n",
       "0               0.0   1000.00  127346.04  2013.0  San Francisco  \n",
       "1               0.0   1913.44  134312.77  2013.0  San Francisco  \n",
       "2           10582.2   7001.51  137940.06  2013.0  San Francisco  \n",
       "3               0.0      0.00       0.00  2014.0  San Francisco  \n",
       "4               0.0      0.00       0.00  2014.0  San Francisco  \n",
       "...             ...       ...        ...     ...            ...  \n",
       "148862          0.0      0.00       0.00  2014.0  San Francisco  \n",
       "148863          NaN       NaN       0.00  2014.0  San Francisco  \n",
       "148864          NaN       NaN       0.00  2014.0  San Francisco  \n",
       "148865          NaN       NaN       0.00  2014.0  San Francisco  \n",
       "148866          0.0   -618.13    -618.13  2014.0  San Francisco  \n",
       "\n",
       "[148867 rows x 8 columns]"
      ]
     },
     "execution_count": 6,
     "metadata": {},
     "output_type": "execute_result"
    }
   ],
   "source": [
    "df"
   ]
  },
  {
   "cell_type": "markdown",
   "id": "8572fd70",
   "metadata": {},
   "source": [
    "1. How many rows does the dataset contain?"
   ]
  },
  {
   "cell_type": "code",
   "execution_count": 7,
   "id": "2df92f9f",
   "metadata": {
    "scrolled": true
   },
   "outputs": [
    {
     "name": "stdout",
     "output_type": "stream",
     "text": [
      "Number of rows in the dataset: 148867\n"
     ]
    }
   ],
   "source": [
    "# Get the number of rows in the DataFrame\n",
    "num_rows = df.shape[0]\n",
    "# Print the number of rows\n",
    "print(\"Number of rows in the dataset:\", num_rows)"
   ]
  },
  {
   "cell_type": "markdown",
   "id": "bf7aefa6",
   "metadata": {},
   "source": [
    "2. What is the data type of each column?"
   ]
  },
  {
   "cell_type": "code",
   "execution_count": 8,
   "id": "288e8782",
   "metadata": {},
   "outputs": [
    {
     "name": "stdout",
     "output_type": "stream",
     "text": [
      "Data types of each column:\n",
      "EmployeeName     object\n",
      "JobTitle         object\n",
      "BasicSalary     float64\n",
      "OvertimePay     float64\n",
      "OtherPay        float64\n",
      "TotalPay        float64\n",
      "Year            float64\n",
      "Agency           object\n",
      "dtype: object\n"
     ]
    }
   ],
   "source": [
    "# Get the data types of each column\n",
    "column_data_types = df.dtypes\n",
    "# Print the data types\n",
    "print(\"Data types of each column:\")\n",
    "print(column_data_types)"
   ]
  },
  {
   "cell_type": "markdown",
   "id": "cd2e0351",
   "metadata": {},
   "source": [
    "3. a. How many duplicate rows are there in the dataset?"
   ]
  },
  {
   "cell_type": "code",
   "execution_count": 9,
   "id": "31c257f1",
   "metadata": {},
   "outputs": [
    {
     "name": "stdout",
     "output_type": "stream",
     "text": [
      "Number of duplicate rows in the dataset: 222\n"
     ]
    }
   ],
   "source": [
    "# Count the number of duplicate rows\n",
    "num_duplicates = df.duplicated().sum()\n",
    "# Print the number of duplicate rows\n",
    "print(\"Number of duplicate rows in the dataset:\", num_duplicates)"
   ]
  },
  {
   "cell_type": "markdown",
   "id": "07870126",
   "metadata": {},
   "source": [
    "3. b. Delete the duplicate rows. How many rows are left in the dataset?"
   ]
  },
  {
   "cell_type": "code",
   "execution_count": 10,
   "id": "25641d8e",
   "metadata": {},
   "outputs": [
    {
     "name": "stdout",
     "output_type": "stream",
     "text": [
      "Number of rows left after removing duplicates: 148645\n"
     ]
    }
   ],
   "source": [
    "# Remove duplicate rows and update the DataFrame\n",
    "df.drop_duplicates(inplace=True)\n",
    "\n",
    "# Get the number of rows after removing duplicates\n",
    "num_rows_after_removing_duplicates = df.shape[0]\n",
    "\n",
    "# Print the number of rows left\n",
    "print(\"Number of rows left after removing duplicates:\", num_rows_after_removing_duplicates)"
   ]
  },
  {
   "cell_type": "code",
   "execution_count": null,
   "id": "07513552",
   "metadata": {},
   "outputs": [],
   "source": []
  },
  {
   "cell_type": "markdown",
   "id": "5acd184e",
   "metadata": {},
   "source": [
    "**IMPORTANT: Use the new dataset (with the duplicates removed) to answer the remaining questions.**"
   ]
  },
  {
   "cell_type": "markdown",
   "id": "9c6535da",
   "metadata": {},
   "source": [
    "4. How many missing values are there in each column?"
   ]
  },
  {
   "cell_type": "code",
   "execution_count": 11,
   "id": "f0676942",
   "metadata": {
    "scrolled": false
   },
   "outputs": [
    {
     "name": "stdout",
     "output_type": "stream",
     "text": [
      "Missing values in each column:\n",
      "EmployeeName      0\n",
      "JobTitle          0\n",
      "BasicSalary     606\n",
      "OvertimePay     150\n",
      "OtherPay         14\n",
      "TotalPay          0\n",
      "Year            183\n",
      "Agency          128\n",
      "dtype: int64\n"
     ]
    }
   ],
   "source": [
    "df.drop_duplicates(inplace=True)\n",
    "# Count the number of missing values in each column\n",
    "missing_values = df.isnull().sum()\n",
    "\n",
    "# Print the number of missing values for each column\n",
    "print(\"Missing values in each column:\")\n",
    "print(missing_values)"
   ]
  },
  {
   "cell_type": "markdown",
   "id": "3a503dba",
   "metadata": {},
   "source": [
    "5. What is the average BasicSalary?"
   ]
  },
  {
   "cell_type": "code",
   "execution_count": 12,
   "id": "e8257e17",
   "metadata": {},
   "outputs": [
    {
     "name": "stdout",
     "output_type": "stream",
     "text": [
      "Average BasicSalary: 66333.88672680849\n"
     ]
    }
   ],
   "source": [
    "# Calculate the average BasicSalary\n",
    "average_basic_salary = df['BasicSalary'].mean()\n",
    "\n",
    "# Print the average BasicSalary\n",
    "print(\"Average BasicSalary:\", average_basic_salary)"
   ]
  },
  {
   "cell_type": "markdown",
   "id": "7f4b2952",
   "metadata": {},
   "source": [
    "6. The BasicSalary column has missing data. \n",
    "\n",
    "    a.   Replace the missing values with the median value of the column. \n",
    "   \n",
    "    b.  What do you call this method of handling missing data?\n",
    "   \n",
    "    c. Recalculate the average BasicSalary. How did it change?"
   ]
  },
  {
   "cell_type": "code",
   "execution_count": 13,
   "id": "92e67de6",
   "metadata": {
    "scrolled": true
   },
   "outputs": [
    {
     "name": "stdout",
     "output_type": "stream",
     "text": [
      "            EmployeeName                    JobTitle  BasicSalary  \\\n",
      "0         Scott W Walton                  Manager II    126346.04   \n",
      "1           Brian W Byun                    Engineer    132399.33   \n",
      "2       Kenneth J Canedo            Police Officer 3    124723.62   \n",
      "3       Brett A Lundberg             General Laborer    117045.00   \n",
      "4         Mark W Mcclure             General Laborer    114062.00   \n",
      "...                  ...                         ...          ...   \n",
      "148858  Carolyn A Wilson   Human Services Technician         0.00   \n",
      "148859      Not provided                Not provided     65019.76   \n",
      "148861       Leon Walker                   Custodian         0.00   \n",
      "148862     Roy I Tillery                   Custodian         0.00   \n",
      "148866         Joe Lopez  Counselor, Log Cabin Ranch         0.00   \n",
      "\n",
      "        OvertimePay  OtherPay   TotalPay    Year         Agency  \n",
      "0               0.0   1000.00  127346.04  2013.0  San Francisco  \n",
      "1               0.0   1913.44  134312.77  2013.0  San Francisco  \n",
      "2           10582.2   7001.51  137940.06  2013.0  San Francisco  \n",
      "3               0.0      0.00       0.00  2014.0  San Francisco  \n",
      "4               0.0      0.00       0.00  2014.0  San Francisco  \n",
      "...             ...       ...        ...     ...            ...  \n",
      "148858          0.0      0.00       0.00  2014.0  San Francisco  \n",
      "148859          NaN       NaN       0.00  2014.0  San Francisco  \n",
      "148861          0.0      0.00       0.00  2014.0  San Francisco  \n",
      "148862          0.0      0.00       0.00  2014.0  San Francisco  \n",
      "148866          0.0   -618.13    -618.13  2014.0  San Francisco  \n",
      "\n",
      "[148645 rows x 8 columns]\n"
     ]
    }
   ],
   "source": [
    "# Replace missing values in BasicSalary with the median\n",
    "median_basic_salary = df['BasicSalary'].median()\n",
    "df['BasicSalary'].fillna(median_basic_salary, inplace=True)\n",
    "\n",
    "# Print the DataFrame to confirm the changes\n",
    "print(df)"
   ]
  },
  {
   "cell_type": "code",
   "execution_count": 14,
   "id": "3e69f293",
   "metadata": {},
   "outputs": [],
   "source": [
    "#The method of handling missing data by replacing missing values with the median \n",
    "#(or any other statistical measure) is called \"imputation.\" Specifically, in this case, \n",
    "#we are using \"median imputation\" because we are filling missing values with the median of the column."
   ]
  },
  {
   "cell_type": "code",
   "execution_count": 15,
   "id": "2f3d449a",
   "metadata": {},
   "outputs": [
    {
     "name": "stdout",
     "output_type": "stream",
     "text": [
      "Average BasicSalary after imputation: 66328.52925904\n"
     ]
    }
   ],
   "source": [
    "# Recalculate the average BasicSalary\n",
    "average_basic_salary_after_imputation = df['BasicSalary'].mean()\n",
    "\n",
    "# Print the new average BasicSalary\n",
    "print(\"Average BasicSalary after imputation:\", average_basic_salary_after_imputation)"
   ]
  },
  {
   "cell_type": "markdown",
   "id": "7457332c",
   "metadata": {},
   "source": [
    "7. How many outliers are there in the TotalPay column?"
   ]
  },
  {
   "cell_type": "code",
   "execution_count": 22,
   "id": "5f8bd7f5",
   "metadata": {},
   "outputs": [
    {
     "name": "stdout",
     "output_type": "stream",
     "text": [
      "Number of outliers in the TotalPay column: 1283\n",
      "The Interquartile range is: 69719.18\n",
      "Q1: 36126.88\n",
      "Q3: 105846.06\n",
      "upper whis: 210424.83\n",
      "lower whis: -68451.88999999998\n"
     ]
    }
   ],
   "source": [
    "# Calculate the IQR for the TotalPay column\n",
    "Q1 = df['TotalPay'].quantile(0.25)\n",
    "Q3 = df['TotalPay'].quantile(0.75)\n",
    "IQR = Q3 - Q1\n",
    "\n",
    "# Define the lower and upper bounds for outliers\n",
    "lower_bound = Q1 - 1.5 * IQR\n",
    "upper_bound = Q3 + 1.5 * IQR\n",
    "\n",
    "# Count the number of outliers in the TotalPay column\n",
    "outliers = df[(df['TotalPay'] < lower_bound) | (df['TotalPay'] > upper_bound)]\n",
    "\n",
    "# Print the number of outliers\n",
    "num_outliers = len(outliers)\n",
    "print(\"Number of outliers in the TotalPay column:\", num_outliers)\n",
    "print(\"The Interquartile range is:\", IQR)\n",
    "print(\"Q1:\", Q1)\n",
    "print(\"Q3:\", Q3)\n",
    "\n",
    "#calculate box and wiskher\n",
    "upper_whisker = Q3 + 1.5 * IQR\n",
    "lower_whisker = Q1 - 1.5 * IQR\n",
    "\n",
    "print(\"upper whis:\", upper_whisker)\n",
    "print(\"lower whis:\", lower_whisker)"
   ]
  },
  {
   "cell_type": "markdown",
   "id": "281f4b1b",
   "metadata": {},
   "source": [
    "<h3><center>End of Question 1</center></h3>"
   ]
  },
  {
   "cell_type": "code",
   "execution_count": null,
   "id": "c69ba246",
   "metadata": {},
   "outputs": [],
   "source": []
  }
 ],
 "metadata": {
  "kernelspec": {
   "display_name": "Python 3 (ipykernel)",
   "language": "python",
   "name": "python3"
  },
  "language_info": {
   "codemirror_mode": {
    "name": "ipython",
    "version": 3
   },
   "file_extension": ".py",
   "mimetype": "text/x-python",
   "name": "python",
   "nbconvert_exporter": "python",
   "pygments_lexer": "ipython3",
   "version": "3.11.3"
  }
 },
 "nbformat": 4,
 "nbformat_minor": 5
}
